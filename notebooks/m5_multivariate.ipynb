{
  "cells": [
    {
      "cell_type": "code",
      "execution_count": null,
      "id": "g48RAwqZ5j90",
      "metadata": {
        "id": "g48RAwqZ5j90"
      },
      "outputs": [],
      "source": [
        "%pip install -U git+https://github.com/zalandoresearch/pytorch-ts.git@version-0.7.0"
      ]
    },
    {
      "cell_type": "code",
      "execution_count": null,
      "id": "69da7c06",
      "metadata": {
        "id": "69da7c06"
      },
      "outputs": [],
      "source": [
        "%matplotlib inline\n",
        "\n",
        "import numpy as np\n",
        "import pandas as pd\n",
        "import matplotlib.pyplot as plt\n",
        "\n",
        "from gluonts.dataset.common import ListDataset\n",
        "from gluonts.evaluation.backtest import make_evaluation_predictions\n",
        "from gluonts.evaluation import MultivariateEvaluator\n",
        "\n",
        "from pts.modules import NegativeBinomialOutput\n",
        "from pts.model.transformer import TransformerEstimator"
      ]
    },
    {
      "cell_type": "code",
      "execution_count": null,
      "id": "2ddd98dd",
      "metadata": {
        "id": "2ddd98dd"
      },
      "outputs": [],
      "source": [
        "m5_file_path = \"~/.gluonts/m5/\""
      ]
    },
    {
      "cell_type": "code",
      "execution_count": null,
      "id": "b77116cd",
      "metadata": {
        "id": "b77116cd"
      },
      "outputs": [],
      "source": [
        "cal_path = f\"{m5_file_path}/calendar.csv\"\n",
        "sales_path = f\"{m5_file_path}/sales_train_validation.csv\"\n",
        "sales_test_path = f\"{m5_file_path}/sales_train_evaluation.csv\"\n",
        "sell_prices_path = f\"{m5_file_path}/sell_prices.csv\""
      ]
    },
    {
      "cell_type": "code",
      "execution_count": null,
      "id": "149091ba",
      "metadata": {
        "id": "149091ba"
      },
      "outputs": [],
      "source": [
        "calendar = pd.read_csv(cal_path, parse_dates=True)\n",
        "calendar.sort_index(inplace=True)\n",
        "calendar.date = pd.to_datetime(calendar.date)\n",
        "time_index = pd.to_datetime(calendar.date)\n",
        "\n",
        "sales_train_validation = pd.read_csv(\n",
        "    sales_path,\n",
        "    index_col=[\"id\", \"item_id\", \"dept_id\", \"cat_id\", \"store_id\", \"state_id\"],\n",
        ")\n",
        "sales_train_validation.sort_index(inplace=True)\n",
        "\n",
        "sales_train_evaluation = pd.read_csv(\n",
        "    sales_test_path,\n",
        "    index_col=[\"id\", \"item_id\", \"dept_id\", \"cat_id\", \"store_id\", \"state_id\"],\n",
        ")\n",
        "sales_train_evaluation.sort_index(inplace=True)\n",
        "\n",
        "sell_prices = pd.read_csv(sell_prices_path, index_col=[\"item_id\", \"store_id\"])\n",
        "sell_prices.sort_index(inplace=True)"
      ]
    },
    {
      "cell_type": "code",
      "execution_count": null,
      "id": "6356e442",
      "metadata": {
        "id": "6356e442"
      },
      "outputs": [],
      "source": [
        "sales_train_validation[\"state\"] = pd.CategoricalIndex(\n",
        "    sales_train_validation.index.get_level_values(5)\n",
        ").codes\n",
        "sales_train_validation[\"store\"] = pd.CategoricalIndex(\n",
        "    sales_train_validation.index.get_level_values(4)\n",
        ").codes\n",
        "sales_train_validation[\"cat\"] = pd.CategoricalIndex(\n",
        "    sales_train_validation.index.get_level_values(3)\n",
        ").codes\n",
        "sales_train_validation[\"dept\"] = pd.CategoricalIndex(\n",
        "    sales_train_validation.index.get_level_values(2)\n",
        ").codes\n",
        "sales_train_validation[\"item\"] = pd.CategoricalIndex(\n",
        "    sales_train_validation.index.get_level_values(1)\n",
        ").codes\n",
        "\n",
        "sales_train_evaluation[\"state\"] = pd.CategoricalIndex(\n",
        "    sales_train_evaluation.index.get_level_values(5)\n",
        ").codes\n",
        "sales_train_evaluation[\"store\"] = pd.CategoricalIndex(\n",
        "    sales_train_evaluation.index.get_level_values(4)\n",
        ").codes\n",
        "sales_train_evaluation[\"cat\"] = pd.CategoricalIndex(\n",
        "    sales_train_evaluation.index.get_level_values(3)\n",
        ").codes\n",
        "sales_train_evaluation[\"dept\"] = pd.CategoricalIndex(\n",
        "    sales_train_evaluation.index.get_level_values(2)\n",
        ").codes\n",
        "sales_train_evaluation[\"item\"] = pd.CategoricalIndex(\n",
        "    sales_train_evaluation.index.get_level_values(1)\n",
        ").codes"
      ]
    },
    {
      "cell_type": "code",
      "execution_count": null,
      "id": "c4580789",
      "metadata": {
        "id": "c4580789"
      },
      "outputs": [],
      "source": [
        "cardinalities = [sales_train_validation[\"store\"].nunique()]"
      ]
    },
    {
      "cell_type": "code",
      "execution_count": null,
      "id": "c137cc60",
      "metadata": {
        "id": "c137cc60",
        "outputId": "cd64cd20-784b-4dd3-8ee6-0f95b5b8eb50"
      },
      "outputs": [],
      "source": [
        "train_ds = []\n",
        "\n",
        "for store_id in range(10):\n",
        "\n",
        "    store_df = sales_train_validation[sales_train_validation.store == store_id][sales_train_validation.cat== 0]\n",
        "    time_series = {}\n",
        "\n",
        "    time_series[\"start\"] = str(time_index[0])\n",
        "    time_series[\"item_id\"] = f\"{store_id}\"\n",
        "    time_series[\"feat_static_cat\"] = [store_id]\n",
        "\n",
        "    time_series[\"target\"] = store_df.iloc[:,0:1913].values\n",
        "    train_ds.append(time_series.copy())\n"
      ]
    },
    {
      "cell_type": "code",
      "execution_count": null,
      "id": "b62f17e6",
      "metadata": {
        "id": "b62f17e6"
      },
      "outputs": [],
      "source": [
        "dataset_train = ListDataset(train_ds, freq=\"D\", one_dim_target=False)"
      ]
    },
    {
      "cell_type": "code",
      "execution_count": null,
      "id": "23b7b001",
      "metadata": {
        "id": "23b7b001",
        "outputId": "4bdbebc9-709c-4196-e820-70ea385ad967"
      },
      "outputs": [],
      "source": [
        "test_ds = []\n",
        "\n",
        "for store_id in range(10):\n",
        "\n",
        "    store_df = sales_train_evaluation[sales_train_evaluation.store == store_id][sales_train_evaluation.cat== 0]\n",
        "    time_series = {}\n",
        "\n",
        "    time_series[\"start\"] = str(time_index[0])\n",
        "    time_series[\"item_id\"] = f\"{store_id}\"\n",
        "    time_series[\"feat_static_cat\"] = [store_id]\n",
        "\n",
        "    time_series[\"target\"] = store_df.iloc[:,0:1941].values\n",
        "    test_ds.append(time_series.copy())\n"
      ]
    },
    {
      "cell_type": "code",
      "execution_count": null,
      "id": "08c1971e",
      "metadata": {
        "id": "08c1971e"
      },
      "outputs": [],
      "source": [
        "dataset_test = ListDataset(test_ds, freq=\"D\", one_dim_target=False)"
      ]
    },
    {
      "cell_type": "code",
      "execution_count": null,
      "id": "0acccde6",
      "metadata": {
        "id": "0acccde6"
      },
      "outputs": [],
      "source": [
        "estimator = TransformerEstimator(\n",
        "    distr_output=NegativeBinomialOutput(dim=1437),\n",
        "    input_size=1437,\n",
        "    lags_seq=[1,],\n",
        "\n",
        "    d_model=256,\n",
        "    nhead=8,\n",
        "\n",
        "    num_encoder_layers=4,\n",
        "    num_decoder_layers=2,\n",
        "\n",
        "    prediction_length=28,\n",
        "    context_length=28*3,\n",
        "    freq=\"D\",\n",
        "    scaling=False,\n",
        "    trainer_kwargs=dict(max_epochs=200, accelerator='gpu', devices='1'),\n",
        ")"
      ]
    },
    {
      "cell_type": "code",
      "execution_count": null,
      "id": "84c14fc2",
      "metadata": {
        "colab": {
          "referenced_widgets": [
            "2a587e2317544ef2acef7bcc9b3bcf0b"
          ]
        },
        "id": "84c14fc2",
        "outputId": "8041b5b3-2bd5-4899-d3ef-4e7c63eb0cc5"
      },
      "outputs": [],
      "source": [
        "predictor = estimator.train(dataset_train, cache_data=True)"
      ]
    },
    {
      "cell_type": "code",
      "execution_count": null,
      "id": "3dc618ab",
      "metadata": {
        "id": "3dc618ab"
      },
      "outputs": [],
      "source": [
        "forecast_it, ts_it = make_evaluation_predictions(dataset=dataset_test,\n",
        "                                             predictor=predictor,\n",
        "                                             num_samples=100)\n",
        "forecasts = list(forecast_it)\n",
        "targets = list(ts_it)"
      ]
    },
    {
      "cell_type": "code",
      "execution_count": null,
      "id": "533f4f6a",
      "metadata": {
        "id": "533f4f6a"
      },
      "outputs": [],
      "source": [
        "evaluator = MultivariateEvaluator(quantiles=(np.arange(20)/20.0)[1:],\n",
        "                                  target_agg_funcs={'sum': np.sum})"
      ]
    },
    {
      "cell_type": "code",
      "execution_count": null,
      "id": "59ecf525",
      "metadata": {
        "id": "59ecf525",
        "outputId": "ebc2c61d-d0cf-40bc-c4a1-0d3bb7f3a577"
      },
      "outputs": [],
      "source": [
        "agg_metric, _ = evaluator(targets, forecasts, num_series=len(dataset_test))"
      ]
    },
    {
      "cell_type": "code",
      "execution_count": null,
      "id": "eb0c1a83",
      "metadata": {
        "id": "eb0c1a83",
        "outputId": "77e410fe-10fb-4540-fb47-67b02f0702ef"
      },
      "outputs": [],
      "source": [
        "print(\"CRPS: {}\".format(agg_metric['mean_wQuantileLoss']))\n",
        "print(\"ND: {}\".format(agg_metric['ND']))\n",
        "print(\"NRMSE: {}\".format(agg_metric['NRMSE']))\n",
        "print(\"MSE: {}\".format(agg_metric['MSE']))"
      ]
    },
    {
      "cell_type": "code",
      "execution_count": null,
      "id": "282f49b2",
      "metadata": {
        "id": "282f49b2",
        "outputId": "0d4003a7-ad24-4f4c-eeba-429b99a7fd7a"
      },
      "outputs": [],
      "source": [
        "print(\"CRPS-Sum: {}\".format(agg_metric['m_sum_mean_wQuantileLoss']))\n",
        "print(\"ND-Sum: {}\".format(agg_metric['m_sum_ND']))\n",
        "print(\"NRMSE-Sum: {}\".format(agg_metric['m_sum_NRMSE']))\n",
        "print(\"MSE-Sum: {}\".format(agg_metric['m_sum_MSE']))"
      ]
    },
    {
      "cell_type": "code",
      "execution_count": null,
      "id": "94e0ba76",
      "metadata": {
        "id": "94e0ba76"
      },
      "outputs": [],
      "source": [
        "def plot(target, forecast, prediction_length, prediction_intervals=(50.0, 90.0), color='g', fname=None):\n",
        "    label_prefix = \"\"\n",
        "    rows = 4\n",
        "    cols = 4\n",
        "    fig, axs = plt.subplots(rows, cols, figsize=(24, 24))\n",
        "    axx = axs.ravel()\n",
        "    seq_len, target_dim = target.shape\n",
        "\n",
        "    ps = [50.0] + [\n",
        "            50.0 + f * c / 2.0 for c in prediction_intervals for f in [-1.0, +1.0]\n",
        "        ]\n",
        "\n",
        "    percentiles_sorted = sorted(set(ps))\n",
        "\n",
        "    def alpha_for_percentile(p):\n",
        "        return (p / 100.0) ** 0.3\n",
        "\n",
        "    for dim in range(0, min(rows * cols, target_dim)):\n",
        "        ax = axx[dim]\n",
        "\n",
        "        target[-2 * prediction_length :][dim].plot(ax=ax)\n",
        "\n",
        "        ps_data = [forecast.quantile(p / 100.0)[:,dim] for p in percentiles_sorted]\n",
        "        i_p50 = len(percentiles_sorted) // 2\n",
        "\n",
        "        p50_data = ps_data[i_p50]\n",
        "        p50_series = pd.Series(data=p50_data, index=forecast.index)\n",
        "        p50_series.plot(color=color, ls=\"-\", label=f\"{label_prefix}median\", ax=ax)\n",
        "\n",
        "        for i in range(len(percentiles_sorted) // 2):\n",
        "            ptile = percentiles_sorted[i]\n",
        "            alpha = alpha_for_percentile(ptile)\n",
        "            ax.fill_between(\n",
        "                forecast.index,\n",
        "                ps_data[i],\n",
        "                ps_data[-i - 1],\n",
        "                facecolor=color,\n",
        "                alpha=alpha,\n",
        "                interpolate=True,\n",
        "            )\n",
        "            # Hack to create labels for the error intervals.\n",
        "            # Doesn't actually plot anything, because we only pass a single data point\n",
        "            pd.Series(data=p50_data[:1], index=forecast.index[:1]).plot(\n",
        "                color=color,\n",
        "                alpha=alpha,\n",
        "                linewidth=10,\n",
        "                label=f\"{label_prefix}{100 - ptile * 2}%\",\n",
        "                ax=ax,\n",
        "            )\n",
        "\n",
        "    legend = [\"observations\", \"median prediction\"] + [f\"{k}% prediction interval\" for k in prediction_intervals][::-1]\n",
        "    axx[0].legend(legend, loc=\"upper left\")\n",
        "\n",
        "    if fname is not None:\n",
        "        plt.savefig(fname, bbox_inches='tight', pad_inches=0.05)"
      ]
    },
    {
      "cell_type": "code",
      "execution_count": null,
      "id": "997fa14a",
      "metadata": {
        "id": "997fa14a",
        "outputId": "40a94d1f-fc9e-4374-8416-09089d1f4059"
      },
      "outputs": [],
      "source": [
        "plot(\n",
        "    target=targets[9],\n",
        "    forecast=forecasts[9],\n",
        "    prediction_length=28,\n",
        ")\n",
        "plt.show()"
      ]
    },
    {
      "cell_type": "code",
      "execution_count": null,
      "id": "1b48619a",
      "metadata": {
        "id": "1b48619a"
      },
      "outputs": [],
      "source": []
    }
  ],
  "metadata": {
    "colab": {
      "provenance": []
    },
    "kernelspec": {
      "display_name": "Python 3 (ipykernel)",
      "language": "python",
      "name": "python3"
    },
    "language_info": {
      "codemirror_mode": {
        "name": "ipython",
        "version": 3
      },
      "file_extension": ".py",
      "mimetype": "text/x-python",
      "name": "python",
      "nbconvert_exporter": "python",
      "pygments_lexer": "ipython3",
      "version": "3.10.6"
    }
  },
  "nbformat": 4,
  "nbformat_minor": 5
}
